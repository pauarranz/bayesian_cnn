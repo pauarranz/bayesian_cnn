{
 "cells": [
  {
   "cell_type": "code",
   "execution_count": 1,
   "id": "79400483",
   "metadata": {},
   "outputs": [
    {
     "name": "stdout",
     "output_type": "stream",
     "text": [
      "Requirement already satisfied: tensorflow in c:\\users\\pau_a\\anaconda3\\lib\\site-packages (2.15.0)\n",
      "Requirement already satisfied: tensorflow-intel==2.15.0 in c:\\users\\pau_a\\anaconda3\\lib\\site-packages (from tensorflow) (2.15.0)\n",
      "Requirement already satisfied: absl-py>=1.0.0 in c:\\users\\pau_a\\anaconda3\\lib\\site-packages (from tensorflow-intel==2.15.0->tensorflow) (2.1.0)\n",
      "Requirement already satisfied: astunparse>=1.6.0 in c:\\users\\pau_a\\anaconda3\\lib\\site-packages (from tensorflow-intel==2.15.0->tensorflow) (1.6.3)\n",
      "Requirement already satisfied: flatbuffers>=23.5.26 in c:\\users\\pau_a\\anaconda3\\lib\\site-packages (from tensorflow-intel==2.15.0->tensorflow) (23.5.26)\n",
      "Requirement already satisfied: gast!=0.5.0,!=0.5.1,!=0.5.2,>=0.2.1 in c:\\users\\pau_a\\anaconda3\\lib\\site-packages (from tensorflow-intel==2.15.0->tensorflow) (0.5.4)\n",
      "Requirement already satisfied: google-pasta>=0.1.1 in c:\\users\\pau_a\\anaconda3\\lib\\site-packages (from tensorflow-intel==2.15.0->tensorflow) (0.2.0)\n",
      "Requirement already satisfied: h5py>=2.9.0 in c:\\users\\pau_a\\anaconda3\\lib\\site-packages (from tensorflow-intel==2.15.0->tensorflow) (3.9.0)\n",
      "Requirement already satisfied: libclang>=13.0.0 in c:\\users\\pau_a\\anaconda3\\lib\\site-packages (from tensorflow-intel==2.15.0->tensorflow) (16.0.6)\n",
      "Requirement already satisfied: ml-dtypes~=0.2.0 in c:\\users\\pau_a\\anaconda3\\lib\\site-packages (from tensorflow-intel==2.15.0->tensorflow) (0.2.0)\n",
      "Requirement already satisfied: numpy<2.0.0,>=1.23.5 in c:\\users\\pau_a\\anaconda3\\lib\\site-packages (from tensorflow-intel==2.15.0->tensorflow) (1.24.3)\n",
      "Requirement already satisfied: opt-einsum>=2.3.2 in c:\\users\\pau_a\\anaconda3\\lib\\site-packages (from tensorflow-intel==2.15.0->tensorflow) (3.3.0)\n",
      "Requirement already satisfied: packaging in c:\\users\\pau_a\\anaconda3\\lib\\site-packages (from tensorflow-intel==2.15.0->tensorflow) (23.1)\n",
      "Requirement already satisfied: protobuf!=4.21.0,!=4.21.1,!=4.21.2,!=4.21.3,!=4.21.4,!=4.21.5,<5.0.0dev,>=3.20.3 in c:\\users\\pau_a\\anaconda3\\lib\\site-packages (from tensorflow-intel==2.15.0->tensorflow) (4.25.3)\n",
      "Requirement already satisfied: setuptools in c:\\users\\pau_a\\anaconda3\\lib\\site-packages (from tensorflow-intel==2.15.0->tensorflow) (68.0.0)\n",
      "Requirement already satisfied: six>=1.12.0 in c:\\users\\pau_a\\anaconda3\\lib\\site-packages (from tensorflow-intel==2.15.0->tensorflow) (1.16.0)\n",
      "Requirement already satisfied: termcolor>=1.1.0 in c:\\users\\pau_a\\anaconda3\\lib\\site-packages (from tensorflow-intel==2.15.0->tensorflow) (2.4.0)\n",
      "Requirement already satisfied: typing-extensions>=3.6.6 in c:\\users\\pau_a\\anaconda3\\lib\\site-packages (from tensorflow-intel==2.15.0->tensorflow) (4.7.1)\n",
      "Requirement already satisfied: wrapt<1.15,>=1.11.0 in c:\\users\\pau_a\\anaconda3\\lib\\site-packages (from tensorflow-intel==2.15.0->tensorflow) (1.14.1)\n",
      "Requirement already satisfied: tensorflow-io-gcs-filesystem>=0.23.1 in c:\\users\\pau_a\\anaconda3\\lib\\site-packages (from tensorflow-intel==2.15.0->tensorflow) (0.31.0)\n",
      "Requirement already satisfied: grpcio<2.0,>=1.24.3 in c:\\users\\pau_a\\anaconda3\\lib\\site-packages (from tensorflow-intel==2.15.0->tensorflow) (1.62.0)\n",
      "Requirement already satisfied: tensorboard<2.16,>=2.15 in c:\\users\\pau_a\\anaconda3\\lib\\site-packages (from tensorflow-intel==2.15.0->tensorflow) (2.15.2)\n",
      "Requirement already satisfied: tensorflow-estimator<2.16,>=2.15.0 in c:\\users\\pau_a\\anaconda3\\lib\\site-packages (from tensorflow-intel==2.15.0->tensorflow) (2.15.0)\n",
      "Requirement already satisfied: keras<2.16,>=2.15.0 in c:\\users\\pau_a\\anaconda3\\lib\\site-packages (from tensorflow-intel==2.15.0->tensorflow) (2.15.0)\n",
      "Requirement already satisfied: wheel<1.0,>=0.23.0 in c:\\users\\pau_a\\anaconda3\\lib\\site-packages (from astunparse>=1.6.0->tensorflow-intel==2.15.0->tensorflow) (0.38.4)\n",
      "Requirement already satisfied: google-auth<3,>=1.6.3 in c:\\users\\pau_a\\anaconda3\\lib\\site-packages (from tensorboard<2.16,>=2.15->tensorflow-intel==2.15.0->tensorflow) (2.28.1)\n",
      "Requirement already satisfied: google-auth-oauthlib<2,>=0.5 in c:\\users\\pau_a\\anaconda3\\lib\\site-packages (from tensorboard<2.16,>=2.15->tensorflow-intel==2.15.0->tensorflow) (1.2.0)\n",
      "Requirement already satisfied: markdown>=2.6.8 in c:\\users\\pau_a\\anaconda3\\lib\\site-packages (from tensorboard<2.16,>=2.15->tensorflow-intel==2.15.0->tensorflow) (3.4.1)\n",
      "Requirement already satisfied: requests<3,>=2.21.0 in c:\\users\\pau_a\\anaconda3\\lib\\site-packages (from tensorboard<2.16,>=2.15->tensorflow-intel==2.15.0->tensorflow) (2.31.0)\n",
      "Requirement already satisfied: tensorboard-data-server<0.8.0,>=0.7.0 in c:\\users\\pau_a\\anaconda3\\lib\\site-packages (from tensorboard<2.16,>=2.15->tensorflow-intel==2.15.0->tensorflow) (0.7.2)\n",
      "Requirement already satisfied: werkzeug>=1.0.1 in c:\\users\\pau_a\\anaconda3\\lib\\site-packages (from tensorboard<2.16,>=2.15->tensorflow-intel==2.15.0->tensorflow) (2.2.3)\n",
      "Requirement already satisfied: cachetools<6.0,>=2.0.0 in c:\\users\\pau_a\\anaconda3\\lib\\site-packages (from google-auth<3,>=1.6.3->tensorboard<2.16,>=2.15->tensorflow-intel==2.15.0->tensorflow) (5.3.2)\n",
      "Requirement already satisfied: pyasn1-modules>=0.2.1 in c:\\users\\pau_a\\anaconda3\\lib\\site-packages (from google-auth<3,>=1.6.3->tensorboard<2.16,>=2.15->tensorflow-intel==2.15.0->tensorflow) (0.2.8)\n",
      "Requirement already satisfied: rsa<5,>=3.1.4 in c:\\users\\pau_a\\anaconda3\\lib\\site-packages (from google-auth<3,>=1.6.3->tensorboard<2.16,>=2.15->tensorflow-intel==2.15.0->tensorflow) (4.9)\n",
      "Requirement already satisfied: requests-oauthlib>=0.7.0 in c:\\users\\pau_a\\anaconda3\\lib\\site-packages (from google-auth-oauthlib<2,>=0.5->tensorboard<2.16,>=2.15->tensorflow-intel==2.15.0->tensorflow) (1.3.1)\n",
      "Requirement already satisfied: charset-normalizer<4,>=2 in c:\\users\\pau_a\\anaconda3\\lib\\site-packages (from requests<3,>=2.21.0->tensorboard<2.16,>=2.15->tensorflow-intel==2.15.0->tensorflow) (2.0.4)\n",
      "Requirement already satisfied: idna<4,>=2.5 in c:\\users\\pau_a\\anaconda3\\lib\\site-packages (from requests<3,>=2.21.0->tensorboard<2.16,>=2.15->tensorflow-intel==2.15.0->tensorflow) (3.4)\n",
      "Requirement already satisfied: urllib3<3,>=1.21.1 in c:\\users\\pau_a\\anaconda3\\lib\\site-packages (from requests<3,>=2.21.0->tensorboard<2.16,>=2.15->tensorflow-intel==2.15.0->tensorflow) (1.26.18)\n",
      "Requirement already satisfied: certifi>=2017.4.17 in c:\\users\\pau_a\\anaconda3\\lib\\site-packages (from requests<3,>=2.21.0->tensorboard<2.16,>=2.15->tensorflow-intel==2.15.0->tensorflow) (2023.7.22)\n",
      "Requirement already satisfied: MarkupSafe>=2.1.1 in c:\\users\\pau_a\\anaconda3\\lib\\site-packages (from werkzeug>=1.0.1->tensorboard<2.16,>=2.15->tensorflow-intel==2.15.0->tensorflow) (2.1.1)\n",
      "Requirement already satisfied: pyasn1<0.5.0,>=0.4.6 in c:\\users\\pau_a\\anaconda3\\lib\\site-packages (from pyasn1-modules>=0.2.1->google-auth<3,>=1.6.3->tensorboard<2.16,>=2.15->tensorflow-intel==2.15.0->tensorflow) (0.4.8)\n",
      "Requirement already satisfied: oauthlib>=3.0.0 in c:\\users\\pau_a\\anaconda3\\lib\\site-packages (from requests-oauthlib>=0.7.0->google-auth-oauthlib<2,>=0.5->tensorboard<2.16,>=2.15->tensorflow-intel==2.15.0->tensorflow) (3.2.2)\n"
     ]
    }
   ],
   "source": [
    "# Install a pip package in the current Jupyter kernel\n",
    "import sys\n",
    "!{sys.executable} -m pip install tensorflow"
   ]
  },
  {
   "cell_type": "code",
   "execution_count": 2,
   "id": "c3661233",
   "metadata": {},
   "outputs": [
    {
     "name": "stdout",
     "output_type": "stream",
     "text": [
      "WARNING:tensorflow:From C:\\Users\\pau_a\\anaconda3\\Lib\\site-packages\\keras\\src\\losses.py:2976: The name tf.losses.sparse_softmax_cross_entropy is deprecated. Please use tf.compat.v1.losses.sparse_softmax_cross_entropy instead.\n",
      "\n"
     ]
    }
   ],
   "source": [
    "import tensorflow as tf  \n",
    "from tensorflow.keras import datasets, layers, models  \n",
    "import numpy as np  \n",
    "import matplotlib.pyplot as plt"
   ]
  },
  {
   "cell_type": "markdown",
   "id": "5242e446",
   "metadata": {},
   "source": [
    "Load MINST dataset"
   ]
  },
  {
   "cell_type": "code",
   "execution_count": 5,
   "id": "7b436a7c",
   "metadata": {},
   "outputs": [
    {
     "name": "stdout",
     "output_type": "stream",
     "text": [
      "Downloading data from https://storage.googleapis.com/tensorflow/tf-keras-datasets/mnist.npz\n",
      "11490434/11490434 [==============================] - 1s 0us/step\n"
     ]
    }
   ],
   "source": [
    "(train_images, train_labels), (test_images, test_labels) = datasets.mnist.load_data()  \n",
    "train_images, test_images = train_images / 255.0, test_images / 255.0"
   ]
  },
  {
   "cell_type": "markdown",
   "id": "7234a42f",
   "metadata": {},
   "source": [
    "MNIST is a simple dataset, so a simple model allows us to achieve a test accuracy of more than 99%. We use a standard CNN with three convolutional layers:"
   ]
  },
  {
   "cell_type": "code",
   "execution_count": 3,
   "id": "88736068",
   "metadata": {},
   "outputs": [
    {
     "name": "stdout",
     "output_type": "stream",
     "text": [
      "WARNING:tensorflow:From C:\\Users\\pau_a\\anaconda3\\Lib\\site-packages\\keras\\src\\backend.py:873: The name tf.get_default_graph is deprecated. Please use tf.compat.v1.get_default_graph instead.\n",
      "\n",
      "WARNING:tensorflow:From C:\\Users\\pau_a\\anaconda3\\Lib\\site-packages\\keras\\src\\layers\\pooling\\max_pooling2d.py:161: The name tf.nn.max_pool is deprecated. Please use tf.nn.max_pool2d instead.\n",
      "\n"
     ]
    }
   ],
   "source": [
    "def get_model():  \n",
    "    model = models.Sequential()  \n",
    "    model.add(  \n",
    "        layers.Conv2D(32, (3, 3), activation=\"relu\", input_shape=(28, 28, 1))  \n",
    "    )  \n",
    "    model.add(layers.MaxPooling2D((2, 2)))  \n",
    "    model.add(layers.Conv2D(64, (3, 3), activation=\"relu\"))  \n",
    "    model.add(layers.MaxPooling2D((2, 2)))  \n",
    "    model.add(layers.Conv2D(64, (3, 3), activation=\"relu\"))  \n",
    "    model.add(layers.Flatten())  \n",
    "    model.add(layers.Dense(64, activation=\"relu\"))  \n",
    "    model.add(layers.Dense(10))  \n",
    "    return model  \n",
    "\n",
    "\n",
    "model = get_model()"
   ]
  },
  {
   "cell_type": "markdown",
   "id": "c6e3ac66",
   "metadata": {},
   "source": [
    "We can then compile and train our model. We obtain a validation accuracy of over 99% after just 5 epochs."
   ]
  },
  {
   "cell_type": "code",
   "execution_count": 7,
   "id": "6a61dd7a",
   "metadata": {},
   "outputs": [
    {
     "name": "stdout",
     "output_type": "stream",
     "text": [
      "Epoch 1/5\n",
      "WARNING:tensorflow:From C:\\Users\\pau_a\\anaconda3\\Lib\\site-packages\\keras\\src\\utils\\tf_utils.py:492: The name tf.ragged.RaggedTensorValue is deprecated. Please use tf.compat.v1.ragged.RaggedTensorValue instead.\n",
      "\n",
      "WARNING:tensorflow:From C:\\Users\\pau_a\\anaconda3\\Lib\\site-packages\\keras\\src\\engine\\base_layer_utils.py:384: The name tf.executing_eagerly_outside_functions is deprecated. Please use tf.compat.v1.executing_eagerly_outside_functions instead.\n",
      "\n",
      "1875/1875 [==============================] - 22s 11ms/step - loss: 0.1444 - accuracy: 0.9547 - val_loss: 0.0495 - val_accuracy: 0.9854\n",
      "Epoch 2/5\n",
      "1875/1875 [==============================] - 22s 12ms/step - loss: 0.0449 - accuracy: 0.9859 - val_loss: 0.0307 - val_accuracy: 0.9904\n",
      "Epoch 3/5\n",
      "1875/1875 [==============================] - 22s 12ms/step - loss: 0.0327 - accuracy: 0.9898 - val_loss: 0.0328 - val_accuracy: 0.9902\n",
      "Epoch 4/5\n",
      "1875/1875 [==============================] - 22s 12ms/step - loss: 0.0255 - accuracy: 0.9918 - val_loss: 0.0258 - val_accuracy: 0.9927\n",
      "Epoch 5/5\n",
      "1875/1875 [==============================] - 21s 11ms/step - loss: 0.0188 - accuracy: 0.9938 - val_loss: 0.0368 - val_accuracy: 0.9893\n"
     ]
    }
   ],
   "source": [
    "def fit_model(model):  \n",
    "    model.compile(  \n",
    "        optimizer=\"adam\",  \n",
    "        loss=tf.keras.losses.SparseCategoricalCrossentropy(from_logits=True),  \n",
    "        metrics=[\"accuracy\"],  \n",
    "    )  \n",
    "\n",
    "    model.fit(  \n",
    "        train_images,  \n",
    "        train_labels,  \n",
    "        epochs=5,  \n",
    "        validation_data=(test_images, test_labels),  \n",
    "    )  \n",
    "    return model  \n",
    "\n",
    "\n",
    "model = fit_model(model)"
   ]
  },
  {
   "cell_type": "markdown",
   "id": "7264822b",
   "metadata": {},
   "source": [
    "Now, let’s see how this model handles out-of-distribution data. Imagine we deploy this model to recognize digits, but users sometimes fail to write down the entire digit. What happens when users do not write down the entire digit? We can get an answer to this question by gradually removing more and more information from a digit, and seeing how our model handles the perturbed inputs. We can define our function to remove signal as follows:"
   ]
  },
  {
   "cell_type": "code",
   "execution_count": 9,
   "id": "090e707d",
   "metadata": {},
   "outputs": [],
   "source": [
    "def remove_signal(img: np.ndarray, num_lines: int) -> np.ndarray:  \n",
    "   img = img.copy()  \n",
    "   img[:num_lines] = 0  \n",
    "   return img"
   ]
  },
  {
   "cell_type": "markdown",
   "id": "80017afe",
   "metadata": {},
   "source": [
    "And then we perturb our images:"
   ]
  },
  {
   "cell_type": "code",
   "execution_count": 11,
   "id": "31bb65e5",
   "metadata": {},
   "outputs": [
    {
     "data": {
      "image/png": "[encoded data removed]",
      "text/plain": [
       "<Figure size 640x480 with 1 Axes>"
      ]
     },
     "metadata": {},
     "output_type": "display_data"
    }
   ],
   "source": [
    "img = test_images[1]\n",
    "plt.imshow(img, cmap=\"gray\")\n",
    "plt.show()"
   ]
  },
  {
   "cell_type": "code",
   "execution_count": 12,
   "id": "03e0071d",
   "metadata": {},
   "outputs": [],
   "source": [
    "imgs = []  \n",
    "for i in range(28):  \n",
    "   img_perturbed = remove_signal(img, i)  \n",
    "   if np.array_equal(img, img_perturbed):  \n",
    "     continue  \n",
    "   imgs.append(img_perturbed)  \n",
    "   if img_perturbed.sum() == 0:  \n",
    "     break"
   ]
  },
  {
   "cell_type": "markdown",
   "id": "c05dd0ec",
   "metadata": {},
   "source": [
    "We only add perturbed images to our list of images if setting a row to 0 actually changes the original image ( if np.array_equal(img, img_perturbed)) and stop once the image is completely black, meaning it just contains pixels with a value of 0. We run inference on these images:"
   ]
  },
  {
   "cell_type": "code",
   "execution_count": 13,
   "id": "6d2edb00",
   "metadata": {},
   "outputs": [],
   "source": [
    "softmax_predictions = tf.nn.softmax(model(np.expand_dims(imgs, -1)), axis=1)"
   ]
  },
  {
   "cell_type": "markdown",
   "id": "55b07114",
   "metadata": {},
   "source": [
    "We can then plot all images with their predicted labels and confidence scores:"
   ]
  },
  {
   "cell_type": "code",
   "execution_count": 27,
   "id": "f7c1f890",
   "metadata": {},
   "outputs": [
    {
     "data": {
      "image/png": "[encoded data removed]",
      "text/plain": [
       "<Figure size 1000x1000 with 20 Axes>"
      ]
     },
     "metadata": {},
     "output_type": "display_data"
    }
   ],
   "source": [
    "plt.figure(figsize=(10, 10))  \n",
    "bbox_dict = dict(  \n",
    "    fill=True, facecolor=\"white\", alpha=0.5, edgecolor=\"white\", linewidth=0  \n",
    ")  \n",
    "for i in range(len(imgs)):  \n",
    "    plt.subplot(5, 5, i + 1)  \n",
    "    plt.xticks([])  \n",
    "    plt.yticks([])  \n",
    "    plt.grid(False)  \n",
    "    plt.imshow(imgs[i], cmap=\"gray\")  \n",
    "    prediction = softmax_predictions[i].numpy().max()  \n",
    "    label = np.argmax(softmax_predictions[i])  \n",
    "    plt.xlabel(f\"{label} - {prediction:.2%}\")  \n",
    "    plt.text(0, 3, f\" {i+1}\", bbox=bbox_dict)\n",
    "plt.show()"
   ]
  },
  {
   "cell_type": "markdown",
   "id": "a5cb9cb3",
   "metadata": {},
   "source": [
    "We can see that initially, our model confidently classifies the image as a 2. Remarkably, this confidence persists even when it seems unreasonable to do so. \n",
    "\n",
    "For example, the model still classifies image 14 as a 2 with 99.31% confidence. \n",
    "\n",
    "Moreover, the model predicts with 69.91% confidence that a completely horizontal line is a 1, as we can see in image 18. \n",
    "\n",
    "It looks like our model is overconfident in its predictions."
   ]
  },
  {
   "cell_type": "markdown",
   "id": "f8047089",
   "metadata": {},
   "source": [
    "Let’s see what a slightly different model would predict on these images. We’ll now use MC dropout as our model. By sampling, we should be able to increase the models’ uncertainty compared to a standard NN. \n",
    "\n",
    "Let’s first define our model:"
   ]
  },
  {
   "cell_type": "code",
   "execution_count": 17,
   "id": "b88d3886",
   "metadata": {},
   "outputs": [],
   "source": [
    "def get_dropout_model():  \n",
    "    model = models.Sequential()  \n",
    "    model.add(  \n",
    "        layers.Conv2D(32, (3, 3), activation=\"relu\", input_shape=(28, 28, 1))  \n",
    "    )  \n",
    "    model.add(layers.Dropout(0.2))  \n",
    "    model.add(layers.MaxPooling2D((2, 2)))  \n",
    "    model.add(layers.Conv2D(64, (3, 3), activation=\"relu\"))  \n",
    "    model.add(layers.MaxPooling2D((2, 2))\n",
    "             )  \n",
    "    model.add(layers.Dropout(0.5))  \n",
    "    model.add(layers.Conv2D(64, (3, 3), activation=\"relu\"))\n",
    "    \n",
    "    model.add(layers.Dropout(0.5))  \n",
    "    model.add(layers.Flatten())  \n",
    "    model.add(layers.Dense(64, activation=\"relu\"))\n",
    "    \n",
    "    model.add(layers.Dropout(0.5))  \n",
    "    model.add(layers.Dense(10))  \n",
    "    return model"
   ]
  },
  {
   "cell_type": "markdown",
   "id": "83a1bc64",
   "metadata": {},
   "source": [
    "Then let’s instantiate it:"
   ]
  },
  {
   "cell_type": "code",
   "execution_count": 18,
   "id": "774b36e8",
   "metadata": {},
   "outputs": [
    {
     "name": "stdout",
     "output_type": "stream",
     "text": [
      "Epoch 1/5\n",
      "1875/1875 [==============================] - 38s 20ms/step - loss: 0.4289 - accuracy: 0.8633 - val_loss: 0.0620 - val_accuracy: 0.9808\n",
      "Epoch 2/5\n",
      "1875/1875 [==============================] - 40s 21ms/step - loss: 0.1624 - accuracy: 0.9534 - val_loss: 0.0434 - val_accuracy: 0.9870\n",
      "Epoch 3/5\n",
      "1875/1875 [==============================] - 39s 21ms/step - loss: 0.1354 - accuracy: 0.9609 - val_loss: 0.0358 - val_accuracy: 0.9897\n",
      "Epoch 4/5\n",
      "1875/1875 [==============================] - 38s 21ms/step - loss: 0.1173 - accuracy: 0.9665 - val_loss: 0.0313 - val_accuracy: 0.9904\n",
      "Epoch 5/5\n",
      "1875/1875 [==============================] - 39s 21ms/step - loss: 0.1068 - accuracy: 0.9700 - val_loss: 0.0272 - val_accuracy: 0.9922\n"
     ]
    }
   ],
   "source": [
    "dropout_model = get_dropout_model()  \n",
    "dropout_model = fit_model(dropout_model)"
   ]
  },
  {
   "cell_type": "markdown",
   "id": "5226e6e6",
   "metadata": {},
   "source": [
    "Our model with dropout will achieve a similar accuracy as our vanilla model. Let’s now run inference with dropout and plot the mean confidence score of MC dropout:"
   ]
  },
  {
   "cell_type": "code",
   "execution_count": 22,
   "id": "426eda3d",
   "metadata": {},
   "outputs": [],
   "source": [
    "predictions = np.array(  \n",
    "    [  \n",
    "        tf.nn.softmax(dropout_model(np.expand_dims(imgs, -1), training=True), axis=1)  \n",
    "        for _ in range(100)  \n",
    "    ]  \n",
    ")  \n",
    "predictions_mean = np.mean(predictions, axis=0)  "
   ]
  },
  {
   "cell_type": "markdown",
   "id": "840d1a2e",
   "metadata": {},
   "source": [
    "This again produces a figure showing the predicted labels and their associated confidence scores:"
   ]
  },
  {
   "cell_type": "code",
   "execution_count": 32,
   "id": "a67008b9",
   "metadata": {},
   "outputs": [],
   "source": [
    "def plot_predictions(predictions, imgs):\n",
    "    plt.figure(figsize=(10, 10))  \n",
    "    bbox_dict = dict(  \n",
    "        fill=True, facecolor=\"white\", alpha=0.5, edgecolor=\"white\", linewidth=0  \n",
    "    )  \n",
    "    for i in range(len(predictions)):  \n",
    "        plt.subplot(5, 5, i + 1)  \n",
    "        plt.xticks([])  \n",
    "        plt.yticks([])  \n",
    "        plt.grid(False)  \n",
    "        plt.imshow(imgs[i], cmap=\"gray\")  \n",
    "        prediction = predictions[i].max()  \n",
    "        label = np.argmax(predictions[i])  \n",
    "        plt.xlabel(f\"{label} - {prediction:.2%}\")  \n",
    "        plt.text(0, 3, f\" {i+1}\", bbox=bbox_dict)\n",
    "    plt.show()"
   ]
  },
  {
   "cell_type": "code",
   "execution_count": 33,
   "id": "671481b2",
   "metadata": {},
   "outputs": [
    {
     "data": {
      "image/png": "[encoded data removed]",
      "text/plain": [
       "<Figure size 1000x1000 with 20 Axes>"
      ]
     },
     "metadata": {},
     "output_type": "display_data"
    }
   ],
   "source": [
    "plot_predictions(predictions_mean, imgs)"
   ]
  },
  {
   "cell_type": "markdown",
   "id": "e806a10b",
   "metadata": {},
   "source": [
    "Figure above: Predicted label and corresponding softmax score of an MC dropout network for an image that is more and more out-of-distribution\n",
    "\n",
    "We can see in the figure above that the model is less certain on average. The model’s confidence decreases a lot when we remove rows from our image. That is desired behaviour: our model does not know the input, so it should be uncertain. However, we can also see that the model is not perfect:\n",
    "\n",
    "It maintains a pretty high confidence for images that do not really look like a 2.\n",
    "\n",
    "The model’s confidence can change a lot when we delete one more row from our images. For example, the model’s confidence jumps from 60.86% to 42.85% between image 14 and 15.\n",
    "\n",
    "The model seems to be more confident that image 20, without any white pixels, is a 1.\n",
    "\n",
    "MC dropout is not handling the out-of-distribution data perfectly."
   ]
  },
  {
   "cell_type": "code",
   "execution_count": null,
   "id": "5762fb4e",
   "metadata": {},
   "outputs": [],
   "source": []
  }
 ],
 "metadata": {
  "kernelspec": {
   "display_name": "Python 3",
   "language": "python",
   "name": "python3"
  },
  "language_info": {
   "codemirror_mode": {
    "name": "ipython",
    "version": 3
   },
   "file_extension": ".py",
   "mimetype": "text/x-python",
   "name": "python",
   "nbconvert_exporter": "python",
   "pygments_lexer": "ipython3",
   "version": "3.11.5"
  }
 },
 "nbformat": 4,
 "nbformat_minor": 5
}
