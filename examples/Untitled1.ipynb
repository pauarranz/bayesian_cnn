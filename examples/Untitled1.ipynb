{
 "cells": [
  {
   "cell_type": "code",
   "execution_count": null,
   "id": "398b37f3",
   "metadata": {},
   "outputs": [],
   "source": [
    "#!/usr/bin/env python3\n",
    "# -*- coding: utf-8 -*-\n",
    "\"\"\"\n",
    "Created on Mon May 17 11:05:05 2021\n",
    "\n",
    "@author: laurent\n",
    "\"\"\"\n",
    "\n",
    "import torch\n",
    "from torch.utils.data.sampler import SubsetRandomSampler\n",
    "import torchvision\n",
    "\n",
    "def getSets(filteredClass = None, removeFiltered = True) :\n",
    "    \"\"\"\n",
    "    Return a torch dataset\n",
    "    \"\"\"\n",
    "\n",
    "    train = torchvision.datasets.MNIST('./data/', train=True, download=True,\n",
    "    transform=torchvision.transforms.Compose([\n",
    "        torchvision.transforms.ToTensor(),\n",
    "        torchvision.transforms.Normalize((0.1307,), (0.3081,))\n",
    "    ]))\n",
    "\n",
    "    test = torchvision.datasets.MNIST('./data/', train=False, download=True,\n",
    "    transform=torchvision.transforms.Compose([\n",
    "            torchvision.transforms.ToTensor(),\n",
    "            torchvision.transforms.Normalize((0.1307,), (0.3081,))\n",
    "    ]))\n",
    "\n",
    "    if filteredClass is not None :\n",
    "\n",
    "        train_loader = torch.utils.data.DataLoader(train, batch_size=len(train))\n",
    "\n",
    "        train_labels = next(iter(train_loader))[1].squeeze()\n",
    "\n",
    "        test_loader = torch.utils.data.DataLoader(test, batch_size=len(test))\n",
    "\n",
    "        test_labels = next(iter(test_loader))[1].squeeze()\n",
    "\n",
    "        if removeFiltered : \n",
    "            trainIndices = torch.nonzero(train_labels != filteredClass).squeeze()\n",
    "            testIndices = torch.nonzero(test_labels != filteredClass).squeeze()\n",
    "        else :\n",
    "            trainIndices = torch.nonzero(train_labels == filteredClass).squeeze()\n",
    "            testIndices = torch.nonzero(test_labels == filteredClass).squeeze()\n",
    "\n",
    "        train = torch.utils.data.Subset(train, trainIndices)\n",
    "        test = torch.utils.data.Subset(test, testIndices)\n",
    "\n",
    "    return train, test    "
   ]
  },
  {
   "cell_type": "code",
   "execution_count": null,
   "id": "aac98a8f",
   "metadata": {},
   "outputs": [],
   "source": [
    "#test getSets function\n",
    "train, test = getSets(filteredClass = 3, removeFiltered = False)\n",
    "\n",
    "test_loader = torch.utils.data.DataLoader(test, batch_size=len(test))\n",
    "\n",
    "images, labels = next(iter(test_loader))\n",
    "\n",
    "print(images.shape)\n",
    "print(torch.unique(labels.squeeze()))"
   ]
  },
  {
   "cell_type": "code",
   "execution_count": null,
   "id": "5c84a29f",
   "metadata": {},
   "outputs": [],
   "source": []
  }
 ],
 "metadata": {
  "kernelspec": {
   "display_name": "Python 3",
   "language": "python",
   "name": "python3"
  },
  "language_info": {
   "codemirror_mode": {
    "name": "ipython",
    "version": 3
   },
   "file_extension": ".py",
   "mimetype": "text/x-python",
   "name": "python",
   "nbconvert_exporter": "python",
   "pygments_lexer": "ipython3",
   "version": "3.11.5"
  }
 },
 "nbformat": 4,
 "nbformat_minor": 5
}
